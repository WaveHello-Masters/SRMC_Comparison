{
 "cells": [
  {
   "cell_type": "code",
   "execution_count": null,
   "metadata": {},
   "outputs": [],
   "source": [
    "# Standard imports\n",
    "import os\n",
    "import sys\n",
    "import matplotlib.pyplot as plt\n",
    "import numpy as np"
   ]
  },
  {
   "cell_type": "code",
   "execution_count": null,
   "metadata": {},
   "outputs": [],
   "source": [
    "sys.path.append(r\"/mnt/data/the_deep/Geotech_Research/Critical_Soil_Models/pumat\")\n",
    "\n",
    "from lib.Load_Classes.Popular_Load_Class import PopularPath\n",
    "from lib.Driver_Classes.Mod_Driver_Setup import DriverModelSetup\n",
    "from lib.Driver_Classes.Mod_Driver_Model import DriverModel\n",
    "from lib.general_functions.executing_runs import generate_batch_script, run_batch_script"
   ]
  },
  {
   "cell_type": "code",
   "execution_count": null,
   "metadata": {},
   "outputs": [],
   "source": [
    "trx_strain = \"TriaxialE1\"\n",
    "\n",
    "load_params = {\n",
    "    \"ninc\": 1000,\n",
    "    \"maxiter\": 0,\n",
    "    \"dtime\"  : 0,\n",
    "    \"every\"  : 10,\n",
    "    \"ddstran_1\": -0.2,\n",
    "}\n",
    "\n",
    "\n",
    "load = PopularPath(trx_strain, load_params)"
   ]
  },
  {
   "cell_type": "code",
   "execution_count": null,
   "metadata": {},
   "outputs": [],
   "source": [
    "# This needs to be in the order that the parameters should be in\n",
    "\n",
    "properties = {\n",
    "    \"Init Shear Modulus\" : 2500,\n",
    "    \"poisson ratio\"      : 0.2,\n",
    "    \"M_tc\"               : 1,\n",
    "    \"Nova's N\"           : 0.0,\n",
    "    \"D_min\"              : 0.0,\n",
    "    \"h\"                  : 0.0,\n",
    "    \"alpha_G\"            : 0.0, \n",
    "    \"alpha_K\"            : 0.0,\n",
    "    \"alpha_D\"            : 0.0,\n",
    "    \"D_part\"             : 0.0, # zero for substepping, 1 for Ortiz-Simo\n",
    "    \"G_s\"                : 0.0,\n",
    "    \"ref_rate\"           : 0.0,\n",
    "    \"switch_smooth\"      : 0.0, # minimum pseudo time step for sloan integration\n",
    "    \"Num smoothing\"      : 0.0,\n",
    "    \"switch original\"    : 0.0,\n",
    "    \"FTOl\"               : 1e-8,\n",
    "    \"max stress iters\"   : 10000\n",
    "}"
   ]
  },
  {
   "cell_type": "code",
   "execution_count": null,
   "metadata": {},
   "outputs": [],
   "source": [
    "len(properties)"
   ]
  },
  {
   "cell_type": "code",
   "execution_count": null,
   "metadata": {},
   "outputs": [],
   "source": [
    "# Get the name of the current folder\n",
    "current_working_dir = os.getcwd()\n",
    "\n",
    "# Path to the folder that the Ortiz-Simo data should be stored in\n",
    "folder_1 = os.path.join(current_working_dir, \"strain_rate_1\")\n",
    "\n",
    "\n",
    "exe_path = r\"/mnt/data/the_deep/Geotech_Research/Critical_Soil_Models/Strain_Rate_Mohr_Coulomb/build/gfortran_E167FD2A985B468F/app/SRMC_incrementalDriver\"\n"
   ]
  },
  {
   "cell_type": "code",
   "execution_count": null,
   "metadata": {},
   "outputs": [],
   "source": [
    "# Generate the \n",
    "models = [DriverModel(folder_1, \"Strain rate 1\", exe_path, \"output.txt\"),\n",
    "]\n",
    "\n"
   ]
  },
  {
   "cell_type": "code",
   "execution_count": null,
   "metadata": {},
   "outputs": [],
   "source": [
    "for model in models:\n",
    "    model.setup.clear_folder()"
   ]
  },
  {
   "cell_type": "code",
   "execution_count": null,
   "metadata": {},
   "outputs": [],
   "source": [
    "# Set the ortiz simo model\n",
    "models[0].setup.write_parameters_file(properties)\n"
   ]
  },
  {
   "cell_type": "code",
   "execution_count": null,
   "metadata": {},
   "outputs": [],
   "source": [
    "# Set the stress and state parameters\n",
    "stress = [-100, -100, -100, 0, 0, 0]\n",
    "state_params = {\"shear modulus\"       : 0,\n",
    "                \"bulk modulus\"        : 0,\n",
    "                \"Stress ratio\"        : 0,\n",
    "                \"Dilatancy\"           : 0,\n",
    "                \"Inertial Coeff\"      : 0,\n",
    "                \"yielding (1 for yes)\": 0,\n",
    "                \"EspP_1\"              : 0,\n",
    "                \"EspP_2\"              : 0,\n",
    "                \"EspP_3\"              : 0,\n",
    "                \"EspP_4\"              : 0,\n",
    "                \"EspP_5\"              : 0,\n",
    "                \"EspP_6\"              : 0,\n",
    "                \"N_i\"                 : 0, # Current number of strain rate sums\n",
    "                \"Sum_rate\"            : 0  # Current sum of strain rates \n",
    "}\n",
    "\n",
    "for model in models:\n",
    "    model.setup.write_initial_conditions_file(stress, state_params)\n",
    "    model.setup.store_loads(load)\n",
    "    model.setup.write_loads()"
   ]
  },
  {
   "cell_type": "code",
   "execution_count": null,
   "metadata": {},
   "outputs": [],
   "source": [
    "for model in models:\n",
    "    model.run_model()"
   ]
  },
  {
   "cell_type": "code",
   "execution_count": null,
   "metadata": {},
   "outputs": [],
   "source": [
    "for model in models:\n",
    "    print(model.results)"
   ]
  },
  {
   "cell_type": "code",
   "execution_count": null,
   "metadata": {},
   "outputs": [],
   "source": [
    "for model in models:\n",
    "    model.results.store_all()"
   ]
  },
  {
   "cell_type": "code",
   "execution_count": null,
   "metadata": {},
   "outputs": [],
   "source": [
    "# Generate a figure to plot the MCSS models\n",
    "fig, axs = plt.subplots(nrows = 2, ncols = 2, figsize = (8, 8))\n",
    "\n",
    "colors = [\"blue\", \"red\"]\n",
    "labels = [\"Strain rate 1\"]\n",
    "styles = [\"dashed\", \"solid\"]\n",
    "line_widths = [4, 1.75]\n",
    "\n",
    "for model, color, label, style, linewidth in zip(models, colors, labels, styles, line_widths):\n",
    "    model.results.quick_quad_plot(axial_strain_id=\"stran(1)\", compression_pos=True, axs = axs, \n",
    "                                  color = color , label=label, legend = True, linestyle = style, linewidth = linewidth)\n",
    "    \n",
    "plt.show()\n",
    "# fig.savefig(\"Drained_Strain_Control_linear_elastic.png\", format = \"png\", bbox_inches = 'tight')\n",
    "plt.close()"
   ]
  },
  {
   "cell_type": "code",
   "execution_count": null,
   "metadata": {},
   "outputs": [],
   "source": []
  }
 ],
 "metadata": {
  "kernelspec": {
   "display_name": "Virginia_Tech_Research",
   "language": "python",
   "name": "python3"
  },
  "language_info": {
   "codemirror_mode": {
    "name": "ipython",
    "version": 3
   },
   "file_extension": ".py",
   "mimetype": "text/x-python",
   "name": "python",
   "nbconvert_exporter": "python",
   "pygments_lexer": "ipython3",
   "version": "3.12.5"
  }
 },
 "nbformat": 4,
 "nbformat_minor": 2
}
